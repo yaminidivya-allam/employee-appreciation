{
 "cells": [
  {
   "cell_type": "code",
   "execution_count": 1,
   "metadata": {},
   "outputs": [],
   "source": [
    "import pandas as pd"
   ]
  },
  {
   "cell_type": "code",
   "execution_count": 2,
   "metadata": {
    "collapsed": true
   },
   "outputs": [
    {
     "data": {
      "text/html": [
       "<div>\n",
       "<style scoped>\n",
       "    .dataframe tbody tr th:only-of-type {\n",
       "        vertical-align: middle;\n",
       "    }\n",
       "\n",
       "    .dataframe tbody tr th {\n",
       "        vertical-align: top;\n",
       "    }\n",
       "\n",
       "    .dataframe thead th {\n",
       "        text-align: right;\n",
       "    }\n",
       "</style>\n",
       "<table border=\"1\" class=\"dataframe\">\n",
       "  <thead>\n",
       "    <tr style=\"text-align: right;\">\n",
       "      <th></th>\n",
       "      <th>Name</th>\n",
       "      <th>feedback</th>\n",
       "      <th>type</th>\n",
       "    </tr>\n",
       "  </thead>\n",
       "  <tbody>\n",
       "    <tr>\n",
       "      <th>0</th>\n",
       "      <td>Surya</td>\n",
       "      <td>delivered on time</td>\n",
       "      <td>1</td>\n",
       "    </tr>\n",
       "    <tr>\n",
       "      <th>1</th>\n",
       "      <td>Suresh</td>\n",
       "      <td>delivered late</td>\n",
       "      <td>0</td>\n",
       "    </tr>\n",
       "    <tr>\n",
       "      <th>2</th>\n",
       "      <td>Sandeep</td>\n",
       "      <td>delivered quickly</td>\n",
       "      <td>1</td>\n",
       "    </tr>\n",
       "    <tr>\n",
       "      <th>3</th>\n",
       "      <td>Harish</td>\n",
       "      <td>he was humble</td>\n",
       "      <td>1</td>\n",
       "    </tr>\n",
       "    <tr>\n",
       "      <th>4</th>\n",
       "      <td>Rupesh</td>\n",
       "      <td>delivered quickly</td>\n",
       "      <td>1</td>\n",
       "    </tr>\n",
       "    <tr>\n",
       "      <th>...</th>\n",
       "      <td>...</td>\n",
       "      <td>...</td>\n",
       "      <td>...</td>\n",
       "    </tr>\n",
       "    <tr>\n",
       "      <th>205</th>\n",
       "      <td>Sai</td>\n",
       "      <td>pathetic delivery</td>\n",
       "      <td>0</td>\n",
       "    </tr>\n",
       "    <tr>\n",
       "      <th>206</th>\n",
       "      <td>Charan</td>\n",
       "      <td>on time delivery</td>\n",
       "      <td>1</td>\n",
       "    </tr>\n",
       "    <tr>\n",
       "      <th>207</th>\n",
       "      <td>Shiva</td>\n",
       "      <td>very poor service</td>\n",
       "      <td>0</td>\n",
       "    </tr>\n",
       "    <tr>\n",
       "      <th>208</th>\n",
       "      <td>Santosh</td>\n",
       "      <td>worst food</td>\n",
       "      <td>0</td>\n",
       "    </tr>\n",
       "    <tr>\n",
       "      <th>209</th>\n",
       "      <td>Ravi</td>\n",
       "      <td>delivered fast</td>\n",
       "      <td>1</td>\n",
       "    </tr>\n",
       "  </tbody>\n",
       "</table>\n",
       "<p>210 rows × 3 columns</p>\n",
       "</div>"
      ],
      "text/plain": [
       "        Name           feedback  type\n",
       "0      Surya  delivered on time     1\n",
       "1     Suresh     delivered late     0\n",
       "2    Sandeep  delivered quickly     1\n",
       "3     Harish      he was humble     1\n",
       "4     Rupesh  delivered quickly     1\n",
       "..       ...                ...   ...\n",
       "205      Sai  pathetic delivery     0\n",
       "206   Charan   on time delivery     1\n",
       "207    Shiva  very poor service     0\n",
       "208  Santosh         worst food     0\n",
       "209     Ravi     delivered fast     1\n",
       "\n",
       "[210 rows x 3 columns]"
      ]
     },
     "execution_count": 2,
     "metadata": {},
     "output_type": "execute_result"
    }
   ],
   "source": [
    "ds=pd.read_csv(\"employee.csv\")\n",
    "ds"
   ]
  },
  {
   "cell_type": "code",
   "execution_count": 3,
   "metadata": {},
   "outputs": [],
   "source": [
    "j=0\n",
    "a=[]\n",
    "for i in range(0,210):\n",
    "    c=0\n",
    "    for k in range(0,j):\n",
    "        if(ds['Name'][i]==a[k]):\n",
    "            c=c+1\n",
    "            break\n",
    "    if(c==0):\n",
    "        a.append(ds['Name'][i])\n",
    "        j=j+1"
   ]
  },
  {
   "cell_type": "code",
   "execution_count": 4,
   "metadata": {},
   "outputs": [],
   "source": [
    "b=[]\n",
    "c=[]\n",
    "d=[]\n",
    "for k in range(0,j):\n",
    "    c1=0\n",
    "    c2=0\n",
    "    for i in range(0,210):\n",
    "        if(ds['Name'][i]==a[k]):\n",
    "            if(ds['type'][i]==1):\n",
    "                c1+=1\n",
    "            else:\n",
    "                c2+=1\n",
    "    c3=c1+c2\n",
    "    b.append(c1)\n",
    "    c.append(c2)\n",
    "    d.append(c3)"
   ]
  },
  {
   "cell_type": "code",
   "execution_count": 5,
   "metadata": {},
   "outputs": [],
   "source": [
    "n=b[0]\n",
    "for i in range(0,j):\n",
    "    if(b[i]>n):\n",
    "        n=b[i]"
   ]
  },
  {
   "cell_type": "code",
   "execution_count": 6,
   "metadata": {},
   "outputs": [],
   "source": [
    "x=[]\n",
    "m=0\n",
    "for i in range(0,j):\n",
    "    if(b[i]==n):\n",
    "        x.append(i)\n",
    "        m+=1"
   ]
  },
  {
   "cell_type": "code",
   "execution_count": 7,
   "metadata": {},
   "outputs": [],
   "source": [
    "k=0\n",
    "for i in range(0,m):\n",
    "    n=x[i]\n",
    "    if(d[n]>k):\n",
    "        k=d[n]\n",
    "        p=n"
   ]
  },
  {
   "cell_type": "code",
   "execution_count": 8,
   "metadata": {},
   "outputs": [
    {
     "name": "stdout",
     "output_type": "stream",
     "text": [
      "Saitej 6 5\n"
     ]
    }
   ],
   "source": [
    "print(a[p],b[p],c[p])"
   ]
  },
  {
   "cell_type": "code",
   "execution_count": null,
   "metadata": {},
   "outputs": [],
   "source": []
  }
 ],
 "metadata": {
  "kernelspec": {
   "display_name": "Python 3",
   "language": "python",
   "name": "python3"
  },
  "language_info": {
   "codemirror_mode": {
    "name": "ipython",
    "version": 3
   },
   "file_extension": ".py",
   "mimetype": "text/x-python",
   "name": "python",
   "nbconvert_exporter": "python",
   "pygments_lexer": "ipython3",
   "version": "3.7.6"
  }
 },
 "nbformat": 4,
 "nbformat_minor": 4
}
