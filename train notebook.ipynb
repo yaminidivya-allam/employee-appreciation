{
 "cells": [
  {
   "cell_type": "code",
   "execution_count": 1,
   "metadata": {},
   "outputs": [],
   "source": [
    "import numpy as np\n",
    "import matplotlib.pyplot as plt\n",
    "import pandas as pd"
   ]
  },
  {
   "cell_type": "code",
   "execution_count": 2,
   "metadata": {},
   "outputs": [],
   "source": [
    "ds=pd.read_csv(\"employee.csv\")"
   ]
  },
  {
   "cell_type": "code",
   "execution_count": 3,
   "metadata": {},
   "outputs": [],
   "source": [
    "import re\n",
    "import nltk"
   ]
  },
  {
   "cell_type": "code",
   "execution_count": 4,
   "metadata": {},
   "outputs": [
    {
     "name": "stderr",
     "output_type": "stream",
     "text": [
      "[nltk_data] Downloading package stopwords to\n",
      "[nltk_data]     C:\\Users\\Dell\\AppData\\Roaming\\nltk_data...\n",
      "[nltk_data]   Package stopwords is already up-to-date!\n"
     ]
    },
    {
     "data": {
      "text/plain": [
       "True"
      ]
     },
     "execution_count": 4,
     "metadata": {},
     "output_type": "execute_result"
    }
   ],
   "source": [
    "nltk.download('stopwords')"
   ]
  },
  {
   "cell_type": "code",
   "execution_count": 5,
   "metadata": {},
   "outputs": [],
   "source": [
    "from nltk.corpus import stopwords\n",
    "from nltk.stem.porter import PorterStemmer"
   ]
  },
  {
   "cell_type": "code",
   "execution_count": 6,
   "metadata": {},
   "outputs": [],
   "source": [
    "c=[]\n",
    "for i in range(0,210):\n",
    "    review = re.sub('[^a-zA-Z]', ' ', ds['feedback'][i])\n",
    "    review=review.lower()\n",
    "    review=review.split()\n",
    "    ps=PorterStemmer()\n",
    "    review=[ps.stem(word) for word in review if not word in set(stopwords.words('english'))]\n",
    "    review=' '.join(review)\n",
    "    c.append(review)"
   ]
  },
  {
   "cell_type": "code",
   "execution_count": 7,
   "metadata": {},
   "outputs": [],
   "source": [
    "from sklearn.feature_extraction.text import CountVectorizer\n",
    "cv =CountVectorizer(max_features=100)\n",
    "x=cv.fit_transform(c).toarray()"
   ]
  },
  {
   "cell_type": "code",
   "execution_count": 8,
   "metadata": {},
   "outputs": [],
   "source": [
    "y=ds.iloc[:,-1].values"
   ]
  },
  {
   "cell_type": "code",
   "execution_count": 9,
   "metadata": {},
   "outputs": [],
   "source": [
    "from sklearn.model_selection import train_test_split\n",
    "x_train,x_test,y_train,y_test=train_test_split(x,y,test_size=0.2,random_state=0)"
   ]
  },
  {
   "cell_type": "code",
   "execution_count": 10,
   "metadata": {},
   "outputs": [],
   "source": [
    "import pickle\n",
    "pickle.dump(cv.vocabulary_,open(\"feature.pkl\",\"wb\"))"
   ]
  },
  {
   "cell_type": "code",
   "execution_count": 11,
   "metadata": {},
   "outputs": [
    {
     "name": "stderr",
     "output_type": "stream",
     "text": [
      "Using TensorFlow backend.\n"
     ]
    }
   ],
   "source": [
    "import keras\n",
    "from tensorflow.keras.models import Sequential\n",
    "from tensorflow.keras.layers import Dense"
   ]
  },
  {
   "cell_type": "code",
   "execution_count": 12,
   "metadata": {},
   "outputs": [],
   "source": [
    "model=Sequential()"
   ]
  },
  {
   "cell_type": "code",
   "execution_count": 13,
   "metadata": {},
   "outputs": [],
   "source": [
    "model.add(Dense(input_dim=34,kernel_initializer=\"random_uniform\",activation=\"sigmoid\",units=1000))"
   ]
  },
  {
   "cell_type": "code",
   "execution_count": 14,
   "metadata": {},
   "outputs": [],
   "source": [
    "model.add(Dense(kernel_initializer=\"random_uniform\",activation=\"sigmoid\",units=100))"
   ]
  },
  {
   "cell_type": "code",
   "execution_count": 15,
   "metadata": {},
   "outputs": [],
   "source": [
    "model.add(Dense(units=1,kernel_initializer='random_uniform',activation=\"sigmoid\"))"
   ]
  },
  {
   "cell_type": "code",
   "execution_count": 16,
   "metadata": {},
   "outputs": [],
   "source": [
    "model.compile(optimizer=\"adam\",loss=\"binary_crossentropy\",metrics=['accuracy'])"
   ]
  },
  {
   "cell_type": "code",
   "execution_count": 17,
   "metadata": {},
   "outputs": [
    {
     "name": "stdout",
     "output_type": "stream",
     "text": [
      "Model: \"sequential\"\n",
      "_________________________________________________________________\n",
      "Layer (type)                 Output Shape              Param #   \n",
      "=================================================================\n",
      "dense (Dense)                (None, 1000)              35000     \n",
      "_________________________________________________________________\n",
      "dense_1 (Dense)              (None, 100)               100100    \n",
      "_________________________________________________________________\n",
      "dense_2 (Dense)              (None, 1)                 101       \n",
      "=================================================================\n",
      "Total params: 135,201\n",
      "Trainable params: 135,201\n",
      "Non-trainable params: 0\n",
      "_________________________________________________________________\n"
     ]
    }
   ],
   "source": [
    "model.summary()"
   ]
  },
  {
   "cell_type": "code",
   "execution_count": 18,
   "metadata": {
    "scrolled": true
   },
   "outputs": [
    {
     "name": "stdout",
     "output_type": "stream",
     "text": [
      "Train on 168 samples\n",
      "Epoch 1/50\n",
      "168/168 [==============================] - 7s 39ms/sample - loss: 0.7133 - accuracy: 0.5000\n",
      "Epoch 2/50\n",
      "168/168 [==============================] - 1s 3ms/sample - loss: 0.6964 - accuracy: 0.4762\n",
      "Epoch 3/50\n",
      "168/168 [==============================] - 0s 3ms/sample - loss: 0.6844 - accuracy: 0.5655\n",
      "Epoch 4/50\n",
      "168/168 [==============================] - 0s 3ms/sample - loss: 0.5740 - accuracy: 0.7143\n",
      "Epoch 5/50\n",
      "168/168 [==============================] - 0s 3ms/sample - loss: 0.2956 - accuracy: 0.9167\n",
      "Epoch 6/50\n",
      "168/168 [==============================] - 0s 3ms/sample - loss: 0.1854 - accuracy: 0.9464\n",
      "Epoch 7/50\n",
      "168/168 [==============================] - 0s 3ms/sample - loss: 0.1272 - accuracy: 0.9643\n",
      "Epoch 8/50\n",
      "168/168 [==============================] - 0s 3ms/sample - loss: 0.1213 - accuracy: 0.9702\n",
      "Epoch 9/50\n",
      "168/168 [==============================] - 0s 3ms/sample - loss: 0.1071 - accuracy: 0.9702\n",
      "Epoch 10/50\n",
      "168/168 [==============================] - 0s 3ms/sample - loss: 0.0926 - accuracy: 0.9821\n",
      "Epoch 11/50\n",
      "168/168 [==============================] - 0s 3ms/sample - loss: 0.0781 - accuracy: 0.9821\n",
      "Epoch 12/50\n",
      "168/168 [==============================] - 1s 3ms/sample - loss: 0.0891 - accuracy: 0.9762\n",
      "Epoch 13/50\n",
      "168/168 [==============================] - 1s 4ms/sample - loss: 0.0662 - accuracy: 0.9881\n",
      "Epoch 14/50\n",
      "168/168 [==============================] - 0s 3ms/sample - loss: 0.0704 - accuracy: 0.9821\n",
      "Epoch 15/50\n",
      "168/168 [==============================] - 0s 3ms/sample - loss: 0.0590 - accuracy: 0.9881\n",
      "Epoch 16/50\n",
      "168/168 [==============================] - 0s 3ms/sample - loss: 0.0596 - accuracy: 0.9881\n",
      "Epoch 17/50\n",
      "168/168 [==============================] - 0s 3ms/sample - loss: 0.0643 - accuracy: 0.9881\n",
      "Epoch 18/50\n",
      "168/168 [==============================] - 0s 3ms/sample - loss: 0.0669 - accuracy: 0.9821\n",
      "Epoch 19/50\n",
      "168/168 [==============================] - 0s 3ms/sample - loss: 0.0618 - accuracy: 0.9762\n",
      "Epoch 20/50\n",
      "168/168 [==============================] - 1s 3ms/sample - loss: 0.0692 - accuracy: 0.9821\n",
      "Epoch 21/50\n",
      "168/168 [==============================] - 0s 3ms/sample - loss: 0.0520 - accuracy: 0.9881\n",
      "Epoch 22/50\n",
      "168/168 [==============================] - 0s 3ms/sample - loss: 0.0798 - accuracy: 0.9762\n",
      "Epoch 23/50\n",
      "168/168 [==============================] - 1s 3ms/sample - loss: 0.0580 - accuracy: 0.9881\n",
      "Epoch 24/50\n",
      "168/168 [==============================] - 0s 3ms/sample - loss: 0.0566 - accuracy: 0.9881\n",
      "Epoch 25/50\n",
      "168/168 [==============================] - 0s 3ms/sample - loss: 0.0580 - accuracy: 0.9881\n",
      "Epoch 26/50\n",
      "168/168 [==============================] - 0s 3ms/sample - loss: 0.1025 - accuracy: 0.9762\n",
      "Epoch 27/50\n",
      "168/168 [==============================] - 0s 3ms/sample - loss: 0.0586 - accuracy: 0.9881\n",
      "Epoch 28/50\n",
      "168/168 [==============================] - 0s 3ms/sample - loss: 0.0483 - accuracy: 0.9881\n",
      "Epoch 29/50\n",
      "168/168 [==============================] - 1s 3ms/sample - loss: 0.0595 - accuracy: 0.9881\n",
      "Epoch 30/50\n",
      "168/168 [==============================] - 0s 3ms/sample - loss: 0.0525 - accuracy: 0.9881\n",
      "Epoch 31/50\n",
      "168/168 [==============================] - 0s 3ms/sample - loss: 0.0523 - accuracy: 0.9821\n",
      "Epoch 32/50\n",
      "168/168 [==============================] - 1s 3ms/sample - loss: 0.0592 - accuracy: 0.9821\n",
      "Epoch 33/50\n",
      "168/168 [==============================] - 0s 3ms/sample - loss: 0.0485 - accuracy: 0.9881\n",
      "Epoch 34/50\n",
      "168/168 [==============================] - 0s 3ms/sample - loss: 0.0801 - accuracy: 0.9762\n",
      "Epoch 35/50\n",
      "168/168 [==============================] - 0s 3ms/sample - loss: 0.0649 - accuracy: 0.9821\n",
      "Epoch 36/50\n",
      "168/168 [==============================] - 1s 3ms/sample - loss: 0.0488 - accuracy: 0.9881\n",
      "Epoch 37/50\n",
      "168/168 [==============================] - 1s 3ms/sample - loss: 0.0428 - accuracy: 0.9881\n",
      "Epoch 38/50\n",
      "168/168 [==============================] - 1s 3ms/sample - loss: 0.0421 - accuracy: 0.9881\n",
      "Epoch 39/50\n",
      "168/168 [==============================] - 0s 3ms/sample - loss: 0.0432 - accuracy: 0.9881\n",
      "Epoch 40/50\n",
      "168/168 [==============================] - 1s 4ms/sample - loss: 0.0428 - accuracy: 0.9881\n",
      "Epoch 41/50\n",
      "168/168 [==============================] - 0s 3ms/sample - loss: 0.0484 - accuracy: 0.9821\n",
      "Epoch 42/50\n",
      "168/168 [==============================] - 0s 3ms/sample - loss: 0.0424 - accuracy: 0.9881\n",
      "Epoch 43/50\n",
      "168/168 [==============================] - 1s 3ms/sample - loss: 0.0423 - accuracy: 0.9881\n",
      "Epoch 44/50\n",
      "168/168 [==============================] - 0s 3ms/sample - loss: 0.0436 - accuracy: 0.9881\n",
      "Epoch 45/50\n",
      "168/168 [==============================] - 1s 3ms/sample - loss: 0.0428 - accuracy: 0.9881\n",
      "Epoch 46/50\n",
      "168/168 [==============================] - 0s 3ms/sample - loss: 0.0396 - accuracy: 0.9881\n",
      "Epoch 47/50\n",
      "168/168 [==============================] - 0s 3ms/sample - loss: 0.0443 - accuracy: 0.9881\n",
      "Epoch 48/50\n",
      "168/168 [==============================] - 1s 3ms/sample - loss: 0.0445 - accuracy: 0.9881\n",
      "Epoch 49/50\n",
      "168/168 [==============================] - 0s 3ms/sample - loss: 0.0438 - accuracy: 0.9881\n",
      "Epoch 50/50\n",
      "168/168 [==============================] - 1s 3ms/sample - loss: 0.0474 - accuracy: 0.9881\n"
     ]
    },
    {
     "data": {
      "text/plain": [
       "<tensorflow.python.keras.callbacks.History at 0x1ca7506b448>"
      ]
     },
     "execution_count": 18,
     "metadata": {},
     "output_type": "execute_result"
    }
   ],
   "source": [
    "model.fit(x_train,y_train,epochs=50,batch_size=1)"
   ]
  },
  {
   "cell_type": "code",
   "execution_count": 19,
   "metadata": {},
   "outputs": [],
   "source": [
    "y_pred=model.predict(x_test)"
   ]
  },
  {
   "cell_type": "code",
   "execution_count": 20,
   "metadata": {},
   "outputs": [],
   "source": [
    "y_pred=(y_pred>0.5)"
   ]
  },
  {
   "cell_type": "code",
   "execution_count": 21,
   "metadata": {},
   "outputs": [],
   "source": [
    "from sklearn.metrics import confusion_matrix\n",
    "cm=confusion_matrix(y_test, y_pred)"
   ]
  },
  {
   "cell_type": "code",
   "execution_count": 22,
   "metadata": {},
   "outputs": [
    {
     "data": {
      "text/plain": [
       "1.0"
      ]
     },
     "execution_count": 22,
     "metadata": {},
     "output_type": "execute_result"
    }
   ],
   "source": [
    "from sklearn.metrics import accuracy_score\n",
    "accuracy_score(y_test, y_pred)"
   ]
  },
  {
   "cell_type": "code",
   "execution_count": 23,
   "metadata": {},
   "outputs": [],
   "source": [
    "loaded=CountVectorizer(decode_error=\"replace\",vocabulary=pickle.load(open(\"feature.pkl\",\"rb\")))"
   ]
  },
  {
   "cell_type": "code",
   "execution_count": 24,
   "metadata": {},
   "outputs": [],
   "source": [
    "da=\"bad quality\""
   ]
  },
  {
   "cell_type": "code",
   "execution_count": 25,
   "metadata": {},
   "outputs": [],
   "source": [
    "da=da.split(\"delimeter\")"
   ]
  },
  {
   "cell_type": "code",
   "execution_count": 26,
   "metadata": {},
   "outputs": [
    {
     "name": "stdout",
     "output_type": "stream",
     "text": [
      "WARNING:tensorflow:Falling back from v2 loop because of error: Failed to find data adapter that can handle input: <class 'scipy.sparse.csr.csr_matrix'>, <class 'NoneType'>\n"
     ]
    }
   ],
   "source": [
    "result=model.predict(loaded.transform(da))"
   ]
  },
  {
   "cell_type": "code",
   "execution_count": 27,
   "metadata": {},
   "outputs": [
    {
     "name": "stdout",
     "output_type": "stream",
     "text": [
      "[[0.00069986]]\n"
     ]
    }
   ],
   "source": [
    "print(result)"
   ]
  },
  {
   "cell_type": "code",
   "execution_count": null,
   "metadata": {},
   "outputs": [],
   "source": []
  }
 ],
 "metadata": {
  "kernelspec": {
   "display_name": "Python 3",
   "language": "python",
   "name": "python3"
  },
  "language_info": {
   "codemirror_mode": {
    "name": "ipython",
    "version": 3
   },
   "file_extension": ".py",
   "mimetype": "text/x-python",
   "name": "python",
   "nbconvert_exporter": "python",
   "pygments_lexer": "ipython3",
   "version": "3.7.6"
  }
 },
 "nbformat": 4,
 "nbformat_minor": 4
}
